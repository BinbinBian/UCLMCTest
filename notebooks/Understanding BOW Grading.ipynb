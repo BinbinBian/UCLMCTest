{
 "metadata": {
  "name": "",
  "signature": "sha256:0bdb3bb5d607368a10efd3dfdf27ddb1915e590c34a9b82f9166371278a0de3e"
 },
 "nbformat": 3,
 "nbformat_minor": 0,
 "worksheets": [
  {
   "cells": [
    {
     "cell_type": "markdown",
     "metadata": {},
     "source": [
      "# Understanding bow grading"
     ]
    },
    {
     "cell_type": "code",
     "collapsed": false,
     "input": [
      "%matplotlib inline\n",
      "import sys\n",
      "import os\n",
      "import matplotlib.pyplot as plt\n",
      "sys.path.append(os.path.abspath('../../'))\n",
      "\n",
      "from UCLMCTest.features import bow\n",
      "from UCLMCTest.classes import storyparser, answers, Question\n",
      "from UCLMCTest.vectors import results, YVectorQA, YVectorQ"
     ],
     "language": "python",
     "metadata": {},
     "outputs": [],
     "prompt_number": 38
    },
    {
     "cell_type": "markdown",
     "metadata": {},
     "source": [
      "We import the solutions and answers from a test set"
     ]
    },
    {
     "cell_type": "code",
     "collapsed": false,
     "input": [
      "testset = \"mc160.dev\"\n",
      "stories = list(storyparser(testset))\n",
      "solutions = list(answers(testset))"
     ],
     "language": "python",
     "metadata": {},
     "outputs": [],
     "prompt_number": 39
    },
    {
     "cell_type": "code",
     "collapsed": false,
     "input": [
      "XQA = bow.XVectorQA(stories, norm=\"question\")\n",
      "XQAsigmoid = bow.XVectorQA(stories, norm=\"sigmoid\")\n",
      "XQAquestion = bow.XVectorQA(stories, norm=\"question\")\n",
      "XQAall = bow.XVectorQA(stories, norm=\"all\")\n",
      "XQA = bow.XVectorQA(stories)\n",
      "Y = YVectorQ(stories, solutions)"
     ],
     "language": "python",
     "metadata": {},
     "outputs": [],
     "prompt_number": 120
    },
    {
     "cell_type": "code",
     "collapsed": false,
     "input": [
      "print \"Stories %i\" % len(stories)\n",
      "print \"Questions %i\" % len(Y)\n",
      "print \"Answers %i\" % len(XQA)"
     ],
     "language": "python",
     "metadata": {},
     "outputs": [
      {
       "output_type": "stream",
       "stream": "stdout",
       "text": [
        "Stories 30\n",
        "Questions 120\n",
        "Answers 480\n"
       ]
      }
     ],
     "prompt_number": 121
    },
    {
     "cell_type": "code",
     "collapsed": false,
     "input": [
      "plt.figure()\n",
      "plt.title('absolute')\n",
      "plt.hist(XQA, 100, facecolor='g', alpha=0.7)\n",
      "plt.show()\n",
      "\n",
      "plt.figure()\n",
      "plt.title('all')\n",
      "plt.hist(XQAall, 100, facecolor='g', alpha=0.7)\n",
      "plt.show()\n",
      "\n",
      "plt.figure()\n",
      "plt.title('question')\n",
      "plt.hist(XQAquestion, 100, facecolor='g', alpha=0.7)\n",
      "plt.show()\n",
      "\n",
      "plt.figure()\n",
      "plt.title('sigmoid')\n",
      "plt.hist(XQAsigmoid, 100, facecolor='g', alpha=0.7)\n",
      "plt.show()\n"
     ],
     "language": "python",
     "metadata": {},
     "outputs": [
      {
       "metadata": {},
       "output_type": "display_data",
       "png": "[encoded data removed]",
       "text": [
        "<matplotlib.figure.Figure at 0x10752bb90>"
       ]
      },
      {
       "metadata": {},
       "output_type": "display_data",
       "png": "[encoded data removed]",
       "text": [
        "<matplotlib.figure.Figure at 0x10c4eb990>"
       ]
      },
      {
       "metadata": {},
       "output_type": "display_data",
       "png": "[encoded data removed]",
       "text": [
        "<matplotlib.figure.Figure at 0x10c563c10>"
       ]
      },
      {
       "metadata": {},
       "output_type": "display_data",
       "png": "[encoded data removed]",
       "text": [
        "<matplotlib.figure.Figure at 0x10c4e8a10>"
       ]
      }
     ],
     "prompt_number": 122
    },
    {
     "cell_type": "code",
     "collapsed": false,
     "input": [
      "from UCLMCTest.grading import grading\n",
      "import pandas as pd\n",
      "\n",
      "grades = grading(X, Y, detailed=True)\n",
      "df = pd.DataFrame(grades)\n",
      "df.head(10)"
     ],
     "language": "python",
     "metadata": {},
     "outputs": [
      {
       "html": [
        "<div style=\"max-height:1000px;max-width:1500px;overflow:auto;\">\n",
        "<table border=\"1\" class=\"dataframe\">\n",
        "  <thead>\n",
        "    <tr style=\"text-align: right;\">\n",
        "      <th></th>\n",
        "      <th>equal</th>\n",
        "      <th>grade</th>\n",
        "      <th>group</th>\n",
        "      <th>score</th>\n",
        "    </tr>\n",
        "  </thead>\n",
        "  <tbody>\n",
        "    <tr>\n",
        "      <th>0</th>\n",
        "      <td> 1</td>\n",
        "      <td> 1.00</td>\n",
        "      <td> 0</td>\n",
        "      <td> 0.693375</td>\n",
        "    </tr>\n",
        "    <tr>\n",
        "      <th>1</th>\n",
        "      <td> 4</td>\n",
        "      <td> 0.25</td>\n",
        "      <td> 0</td>\n",
        "      <td> 0.500000</td>\n",
        "    </tr>\n",
        "    <tr>\n",
        "      <th>2</th>\n",
        "      <td> 1</td>\n",
        "      <td> 1.00</td>\n",
        "      <td> 0</td>\n",
        "      <td> 0.642824</td>\n",
        "    </tr>\n",
        "    <tr>\n",
        "      <th>3</th>\n",
        "      <td> 1</td>\n",
        "      <td> 1.00</td>\n",
        "      <td> 0</td>\n",
        "      <td> 0.558661</td>\n",
        "    </tr>\n",
        "    <tr>\n",
        "      <th>4</th>\n",
        "      <td> 1</td>\n",
        "      <td> 1.00</td>\n",
        "      <td> 0</td>\n",
        "      <td> 0.558661</td>\n",
        "    </tr>\n",
        "    <tr>\n",
        "      <th>5</th>\n",
        "      <td> 1</td>\n",
        "      <td> 1.00</td>\n",
        "      <td> 0</td>\n",
        "      <td> 0.716002</td>\n",
        "    </tr>\n",
        "    <tr>\n",
        "      <th>6</th>\n",
        "      <td> 1</td>\n",
        "      <td> 1.00</td>\n",
        "      <td> 0</td>\n",
        "      <td> 0.544705</td>\n",
        "    </tr>\n",
        "    <tr>\n",
        "      <th>7</th>\n",
        "      <td> 1</td>\n",
        "      <td> 1.00</td>\n",
        "      <td> 0</td>\n",
        "      <td> 0.550743</td>\n",
        "    </tr>\n",
        "    <tr>\n",
        "      <th>8</th>\n",
        "      <td> 4</td>\n",
        "      <td> 0.25</td>\n",
        "      <td> 0</td>\n",
        "      <td> 0.500000</td>\n",
        "    </tr>\n",
        "    <tr>\n",
        "      <th>9</th>\n",
        "      <td> 2</td>\n",
        "      <td> 0.50</td>\n",
        "      <td> 0</td>\n",
        "      <td> 0.571863</td>\n",
        "    </tr>\n",
        "  </tbody>\n",
        "</table>\n",
        "</div>"
       ],
       "metadata": {},
       "output_type": "pyout",
       "prompt_number": 174,
       "text": [
        "   equal  grade  group     score\n",
        "0      1   1.00      0  0.693375\n",
        "1      4   0.25      0  0.500000\n",
        "2      1   1.00      0  0.642824\n",
        "3      1   1.00      0  0.558661\n",
        "4      1   1.00      0  0.558661\n",
        "5      1   1.00      0  0.716002\n",
        "6      1   1.00      0  0.544705\n",
        "7      1   1.00      0  0.550743\n",
        "8      4   0.25      0  0.500000\n",
        "9      2   0.50      0  0.571863"
       ]
      }
     ],
     "prompt_number": 174
    },
    {
     "cell_type": "code",
     "collapsed": false,
     "input": [
      "df.groupby('grade')[\"grade\"].count()"
     ],
     "language": "python",
     "metadata": {},
     "outputs": [
      {
       "metadata": {},
       "output_type": "pyout",
       "prompt_number": 170,
       "text": [
        "grade\n",
        "0.250000    36\n",
        "0.333333    10\n",
        "0.500000    22\n",
        "1.000000    52\n",
        "Name: grade, dtype: int64"
       ]
      }
     ],
     "prompt_number": 170
    },
    {
     "cell_type": "code",
     "collapsed": false,
     "input": [
      "df.groupby('grade')[\"grade\"].count().plot(\n",
      "    kind=\"bar\",\n",
      "    title=\"Distribution of scores\"\n",
      ")"
     ],
     "language": "python",
     "metadata": {},
     "outputs": [
      {
       "metadata": {},
       "output_type": "pyout",
       "prompt_number": 178,
       "text": [
        "<matplotlib.axes.AxesSubplot at 0x10e35b0d0>"
       ]
      },
      {
       "metadata": {},
       "output_type": "display_data",
       "png": "[encoded data removed]",
       "text": [
        "<matplotlib.figure.Figure at 0x10ddade10>"
       ]
      }
     ],
     "prompt_number": 178
    },
    {
     "cell_type": "code",
     "collapsed": false,
     "input": [
      "plt.figure()\n",
      "df.groupby('equal')[\"equal\"].count().plot(\n",
      "    kind=\"bar\",\n",
      "    title=\"Ambiguity distribution\"\n",
      ")"
     ],
     "language": "python",
     "metadata": {},
     "outputs": [
      {
       "metadata": {},
       "output_type": "pyout",
       "prompt_number": 222,
       "text": [
        "<matplotlib.axes.AxesSubplot at 0x10f66b590>"
       ]
      },
      {
       "metadata": {},
       "output_type": "display_data",
       "png": "[encoded data removed]",
       "text": [
        "<matplotlib.figure.Figure at 0x10feadb10>"
       ]
      }
     ],
     "prompt_number": 222
    },
    {
     "cell_type": "markdown",
     "metadata": {},
     "source": [
      "This shows how ambiguous they are in each group they are found"
     ]
    },
    {
     "cell_type": "code",
     "collapsed": false,
     "input": [
      "pd.DataFrame([\n",
      "    df[df['group'] == 0].groupby('equal')[\"equal\"].count(),\n",
      "    df[df['group'] == 1].groupby('equal')[\"equal\"].count(),\n",
      "    df[df['group'] == 2].groupby('equal')[\"equal\"].count(),\n",
      "    df[df['group'] == 3].groupby('equal')[\"equal\"].count()\n",
      "], [\"1\", \"2\", \"3\", \"4\"])"
     ],
     "language": "python",
     "metadata": {},
     "outputs": [
      {
       "html": [
        "<div style=\"max-height:1000px;max-width:1500px;overflow:auto;\">\n",
        "<table border=\"1\" class=\"dataframe\">\n",
        "  <thead>\n",
        "    <tr style=\"text-align: right;\">\n",
        "      <th>equal</th>\n",
        "      <th>1</th>\n",
        "      <th>2</th>\n",
        "      <th>3</th>\n",
        "      <th>4</th>\n",
        "    </tr>\n",
        "  </thead>\n",
        "  <tbody>\n",
        "    <tr>\n",
        "      <th>1</th>\n",
        "      <td> 52</td>\n",
        "      <td> 17</td>\n",
        "      <td>  4</td>\n",
        "      <td> 23</td>\n",
        "    </tr>\n",
        "    <tr>\n",
        "      <th>2</th>\n",
        "      <td>  5</td>\n",
        "      <td>  6</td>\n",
        "      <td> 11</td>\n",
        "      <td>NaN</td>\n",
        "    </tr>\n",
        "    <tr>\n",
        "      <th>3</th>\n",
        "      <td>NaN</td>\n",
        "      <td>  1</td>\n",
        "      <td>NaN</td>\n",
        "      <td>NaN</td>\n",
        "    </tr>\n",
        "    <tr>\n",
        "      <th>4</th>\n",
        "      <td>  1</td>\n",
        "      <td>NaN</td>\n",
        "      <td>NaN</td>\n",
        "      <td>NaN</td>\n",
        "    </tr>\n",
        "  </tbody>\n",
        "</table>\n",
        "</div>"
       ],
       "metadata": {},
       "output_type": "pyout",
       "prompt_number": 223,
       "text": [
        "equal   1   2   3   4\n",
        "1      52  17   4  23\n",
        "2       5   6  11 NaN\n",
        "3     NaN   1 NaN NaN\n",
        "4       1 NaN NaN NaN"
       ]
      }
     ],
     "prompt_number": 223
    },
    {
     "cell_type": "code",
     "collapsed": false,
     "input": [],
     "language": "python",
     "metadata": {},
     "outputs": []
    }
   ],
   "metadata": {}
  }
 ]
}